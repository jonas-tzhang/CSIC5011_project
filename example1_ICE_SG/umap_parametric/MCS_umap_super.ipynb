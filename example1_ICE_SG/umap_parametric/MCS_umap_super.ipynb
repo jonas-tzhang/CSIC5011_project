{
 "cells": [
  {
   "cell_type": "markdown",
   "metadata": {},
   "source": [
    "## Training"
   ]
  },
  {
   "cell_type": "markdown",
   "metadata": {},
   "source": [
    "## Inference"
   ]
  },
  {
   "cell_type": "code",
   "execution_count": 1,
   "metadata": {},
   "outputs": [
    {
     "name": "stderr",
     "output_type": "stream",
     "text": [
      "/home/user/anaconda3/envs/gpu/lib/python3.10/site-packages/tqdm/auto.py:21: TqdmWarning: IProgress not found. Please update jupyter and ipywidgets. See https://ipywidgets.readthedocs.io/en/stable/user_install.html\n",
      "  from .autonotebook import tqdm as notebook_tqdm\n",
      "2025-04-25 11:09:09.490576: E external/local_xla/xla/stream_executor/cuda/cuda_fft.cc:467] Unable to register cuFFT factory: Attempting to register factory for plugin cuFFT when one has already been registered\n",
      "WARNING: All log messages before absl::InitializeLog() is called are written to STDERR\n",
      "E0000 00:00:1745579349.504316 2036121 cuda_dnn.cc:8579] Unable to register cuDNN factory: Attempting to register factory for plugin cuDNN when one has already been registered\n",
      "E0000 00:00:1745579349.508573 2036121 cuda_blas.cc:1407] Unable to register cuBLAS factory: Attempting to register factory for plugin cuBLAS when one has already been registered\n",
      "W0000 00:00:1745579349.520719 2036121 computation_placer.cc:177] computation placer already registered. Please check linkage and avoid linking the same target more than once.\n",
      "W0000 00:00:1745579349.520729 2036121 computation_placer.cc:177] computation placer already registered. Please check linkage and avoid linking the same target more than once.\n",
      "W0000 00:00:1745579349.520731 2036121 computation_placer.cc:177] computation placer already registered. Please check linkage and avoid linking the same target more than once.\n",
      "W0000 00:00:1745579349.520733 2036121 computation_placer.cc:177] computation placer already registered. Please check linkage and avoid linking the same target more than once.\n",
      "2025-04-25 11:09:09.525042: I tensorflow/core/platform/cpu_feature_guard.cc:210] This TensorFlow binary is optimized to use available CPU instructions in performance-critical operations.\n",
      "To enable the following instructions: AVX2 FMA, in other operations, rebuild TensorFlow with the appropriate compiler flags.\n"
     ]
    },
    {
     "name": "stdout",
     "output_type": "stream",
     "text": [
      "Fri Apr 25 11:09:14 2025 Building and compiling search function\n",
      "Pickle of ParametricUMAP model loaded from /data/hanzhe/20250424cs/umap_parametric/model/model.pkl\n",
      "Keras encoder model loaded from /data/hanzhe/20250424cs/umap_parametric/model/encoder.keras\n",
      "\u001b[1m1/2\u001b[0m \u001b[32m━━━━━━━━━━\u001b[0m\u001b[37m━━━━━━━━━━\u001b[0m \u001b[1m0s\u001b[0m 90ms/step"
     ]
    },
    {
     "name": "stderr",
     "output_type": "stream",
     "text": [
      "2025-04-25 11:09:15.887186: E external/local_xla/xla/stream_executor/cuda/cuda_platform.cc:51] failed call to cuInit: INTERNAL: CUDA error: Failed call to cuInit: CUDA_ERROR_NO_DEVICE: no CUDA-capable device is detected\n",
      "2025-04-25 11:09:15.887231: I external/local_xla/xla/stream_executor/cuda/cuda_diagnostics.cc:167] env: CUDA_VISIBLE_DEVICES=\"-1\"\n",
      "2025-04-25 11:09:15.887238: I external/local_xla/xla/stream_executor/cuda/cuda_diagnostics.cc:170] CUDA_VISIBLE_DEVICES is set to -1 - this hides all GPUs from CUDA\n",
      "2025-04-25 11:09:15.887253: I external/local_xla/xla/stream_executor/cuda/cuda_diagnostics.cc:178] verbose logging is disabled. Rerun with verbose logging (usually --v=1 or --vmodule=cuda_diagnostics=1) to get more diagnostic output from this module\n",
      "2025-04-25 11:09:15.887259: I external/local_xla/xla/stream_executor/cuda/cuda_diagnostics.cc:183] retrieving CUDA diagnostic information for host: cez147\n",
      "2025-04-25 11:09:15.887262: I external/local_xla/xla/stream_executor/cuda/cuda_diagnostics.cc:190] hostname: cez147\n",
      "2025-04-25 11:09:15.887422: I external/local_xla/xla/stream_executor/cuda/cuda_diagnostics.cc:197] libcuda reported version is: 570.86.15\n",
      "2025-04-25 11:09:15.887449: I external/local_xla/xla/stream_executor/cuda/cuda_diagnostics.cc:201] kernel reported version is: 570.86.15\n",
      "2025-04-25 11:09:15.887452: I external/local_xla/xla/stream_executor/cuda/cuda_diagnostics.cc:291] kernel version seems to match DSO: 570.86.15\n"
     ]
    },
    {
     "name": "stdout",
     "output_type": "stream",
     "text": [
      "\u001b[1m2/2\u001b[0m \u001b[32m━━━━━━━━━━━━━━━━━━━━\u001b[0m\u001b[37m\u001b[0m \u001b[1m0s\u001b[0m 32ms/step\n",
      "嵌入矩阵形状 : (2000, 2)\n",
      "✅ 已保存至: /data/hanzhe/20250424cs/ICE_SG/umap_parametric/ICE_SG_umap_paremetric_inference.npy\n"
     ]
    }
   ],
   "source": [
    "\n",
    "import os\n",
    "os.environ[\"CUDA_VISIBLE_DEVICES\"] = \"-1\"  # 用 CPU\n",
    "import numpy as np\n",
    "from umap.parametric_umap import load_ParametricUMAP   # ← 官方加载 API\n",
    "# 若此前使用 `from parametric_umap import ParametricUMAP` 保存，\n",
    "# 这里依旧使用同一个包路径 (两者等价)\n",
    "\n",
    "# ───────── 1. 路径 ─────────\n",
    "model_dir = '/data/hanzhe/20250424cs/umap_parametric/model'  # 包含 encoder.keras 等文件\n",
    "x_path    = '/data/hanzhe/20250424cs/ICE_data/ICE_SG/X_ICE_SG.npy'\n",
    "save_path = '/data/hanzhe/20250424cs/ICE_SG/umap_parametric/ICE_SG_umap_paremetric_inference.npy'\n",
    "\n",
    "# ───────── 2. 载入模型与数据 ─────────\n",
    "embedder   = load_ParametricUMAP(model_dir)\n",
    "X_trimmed  = np.load(x_path)\n",
    "\n",
    "\n",
    "\n",
    "# ───────── 3. 推断 / 降维 ─────────\n",
    "embedding  = embedder.transform(X_trimmed)   # shape: (n_samples, n_components)\n",
    "print(\"嵌入矩阵形状 :\", embedding.shape)\n",
    "\n",
    "# ───────── 4. 保存结果 ─────────\n",
    "os.makedirs(os.path.dirname(save_path), exist_ok=True)\n",
    "np.save(save_path, embedding)\n",
    "print(\"✅ 已保存至:\", save_path)\n"
   ]
  },
  {
   "cell_type": "code",
   "execution_count": 2,
   "metadata": {},
   "outputs": [
    {
     "data": {
      "image/png": "[encoded data removed]",
      "text/plain": [
       "<Figure size 1200x800 with 1 Axes>"
      ]
     },
     "metadata": {},
     "output_type": "display_data"
    }
   ],
   "source": [
    "#!/usr/bin/env python\n",
    "# coding: utf-8\n",
    "\"\"\"\n",
    "绘制二分类 UMAP 散点图\n",
    "----------------------------------------\n",
    "依赖:\n",
    "  pip install numpy matplotlib seaborn\n",
    "\"\"\"\n",
    "\n",
    "import os\n",
    "import numpy as np\n",
    "import matplotlib.pyplot as plt\n",
    "import seaborn as sns\n",
    "\n",
    "# ───────── 1. 读取数据 ─────────\n",
    "embed_path = '/data/hanzhe/20250424cs/ICE_SG/umap_parametric/ICE_SG_umap_paremetric_inference.npy'\n",
    "y_path     = '/data/hanzhe/20250424cs/ICE_data/ICE_SG/y_ICE_SG.npy'\n",
    "\n",
    "embedding = np.load(embed_path)          # (n_samples, 2)\n",
    "y         = np.load(y_path)              # (n_samples,)\n",
    "\n",
    "# ───────── 2. 压缩为两类 ─────────\n",
    "#   label_bin = 0  ⇨  y <= 0\n",
    "#   label_bin = 1  ⇨  y > 0\n",
    "label_bin = (y > 0).astype(int)\n",
    "\n",
    "# ───────── 3. 绘图 ─────────\n",
    "sns.set_context(\"notebook\", font_scale=1.5)\n",
    "plt.figure(figsize=(12, 8))\n",
    "\n",
    "palette = {0: \"#1f77b4\", 1: \"#ff7f0e\"}    # 两种颜色，可自行调\n",
    "sns.scatterplot(\n",
    "    x=embedding[:, 0],\n",
    "    y=embedding[:, 1],\n",
    "    hue=label_bin,\n",
    "    palette=palette,\n",
    "    alpha=0.8,\n",
    "    s=40,\n",
    "    edgecolor=\"none\"\n",
    ")\n",
    "\n",
    "plt.title(\"UMAP ML\", fontsize=16)\n",
    "plt.xlabel(\"UMAP 1\", fontsize=14)\n",
    "plt.ylabel(\"UMAP 2\", fontsize=14)\n",
    "x_min, x_max = -4, 7\n",
    "y_min, y_max = -3, 4\n",
    "\n",
    "plt.xlim(x_min, x_max)\n",
    "plt.ylim(y_min, y_max)\n",
    "plt.tight_layout()\n",
    "\n",
    "\n",
    "plt.show()\n",
    "\n"
   ]
  }
 ],
 "metadata": {
  "language_info": {
   "name": "python"
  }
 },
 "nbformat": 4,
 "nbformat_minor": 2
}
