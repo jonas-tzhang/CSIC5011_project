{
 "cells": [
  {
   "cell_type": "code",
   "execution_count": 1,
   "metadata": {},
   "outputs": [
    {
     "name": "stdout",
     "output_type": "stream",
     "text": [
      "Available arrays: ['X', 'y']\n",
      "Array name: X\n",
      "  Shape: (2000, 100)\n",
      "  Dtype: float64\n",
      "----------------------------------------\n",
      "Array name: y\n",
      "  Shape: (2000,)\n",
      "  Dtype: float64\n",
      "----------------------------------------\n"
     ]
    }
   ],
   "source": [
    "import numpy as np\n",
    "\n",
    "# 文件路径\n",
    "path = '/data/hanzhe/20250424cs/ICE_data/example_1_data_ICE_GM.npz'\n",
    "\n",
    "# 加载 .npz 文件\n",
    "# 如果你的文件里保存的是 Python 对象，也可以加上 allow_pickle=True\n",
    "data = np.load(path, allow_pickle=False)\n",
    "\n",
    "# 打印包含的所有数组的名字\n",
    "print(\"Available arrays:\", data.files)\n",
    "\n",
    "# 依次打印每个数组的 shape 和 dtype\n",
    "for name in data.files:\n",
    "    arr = data[name]\n",
    "    print(f\"Array name: {name}\")\n",
    "    print(f\"  Shape: {arr.shape}\")\n",
    "    print(f\"  Dtype: {arr.dtype}\")\n",
    "    print(\"-\" * 40)\n"
   ]
  },
  {
   "cell_type": "code",
   "execution_count": 2,
   "metadata": {},
   "outputs": [
    {
     "name": "stdout",
     "output_type": "stream",
     "text": [
      "Saved X.npy with shape (2000, 100) and dtype float64\n",
      "Saved y.npy with shape (2000,) and dtype float64\n"
     ]
    }
   ],
   "source": [
    "import numpy as np\n",
    "import os\n",
    "\n",
    "# 输入 .npz 文件路径\n",
    "npz_path = '/data/hanzhe/20250424cs/ICE_data/example_1_data_ICE_GM.npz'\n",
    "\n",
    "# 输出目录（可以改成你想要的路径）\n",
    "out_dir = '/data/hanzhe/20250424cs/ICE_data/ICE_GM'\n",
    "\n",
    "# 确保输出目录存在\n",
    "os.makedirs(out_dir, exist_ok=True)\n",
    "\n",
    "# 加载 .npz 文件\n",
    "data = np.load(npz_path, allow_pickle=False)\n",
    "\n",
    "# 读取 X 和 y\n",
    "X = data['X']\n",
    "y = data['y']\n",
    "\n",
    "# 保存为 .npy\n",
    "np.save(os.path.join(out_dir, 'X_ICE_GM.npy'), X)\n",
    "np.save(os.path.join(out_dir, 'y_ICE_GM.npy'), y)\n",
    "\n",
    "print(f\"Saved X.npy with shape {X.shape} and dtype {X.dtype}\")\n",
    "print(f\"Saved y.npy with shape {y.shape} and dtype {y.dtype}\")\n"
   ]
  },
  {
   "cell_type": "code",
   "execution_count": 3,
   "metadata": {},
   "outputs": [
    {
     "name": "stdout",
     "output_type": "stream",
     "text": [
      "Saved X.npy with shape (2000, 100) and dtype float64\n",
      "Saved y.npy with shape (2000,) and dtype float64\n"
     ]
    }
   ],
   "source": [
    "import numpy as np\n",
    "import os\n",
    "\n",
    "# 输入 .npz 文件路径\n",
    "npz_path = '/data/hanzhe/20250424cs/ICE_data/example_1_data_ICE_SG.npz'\n",
    "\n",
    "# 输出目录（可以改成你想要的路径）\n",
    "out_dir = '/data/hanzhe/20250424cs/ICE_data/ICE_SG'\n",
    "\n",
    "# 确保输出目录存在\n",
    "os.makedirs(out_dir, exist_ok=True)\n",
    "\n",
    "# 加载 .npz 文件\n",
    "data = np.load(npz_path, allow_pickle=False)\n",
    "\n",
    "# 读取 X 和 y\n",
    "X = data['X']\n",
    "y = data['y']\n",
    "\n",
    "# 保存为 .npy\n",
    "np.save(os.path.join(out_dir, 'X_ICE_SG.npy'), X)\n",
    "np.save(os.path.join(out_dir, 'y_ICE_SG.npy'), y)\n",
    "\n",
    "print(f\"Saved X.npy with shape {X.shape} and dtype {X.dtype}\")\n",
    "print(f\"Saved y.npy with shape {y.shape} and dtype {y.dtype}\")\n"
   ]
  },
  {
   "cell_type": "code",
   "execution_count": 4,
   "metadata": {},
   "outputs": [
    {
     "name": "stdout",
     "output_type": "stream",
     "text": [
      "Saved X.npy with shape (2000, 100) and dtype float64\n",
      "Saved y.npy with shape (2000,) and dtype float64\n"
     ]
    }
   ],
   "source": [
    "import numpy as np\n",
    "import os\n",
    "\n",
    "# 输入 .npz 文件路径\n",
    "npz_path = '/data/hanzhe/20250424cs/ICE_data/example_1_data_ICE_vMFNM.npz'\n",
    "\n",
    "# 输出目录（可以改成你想要的路径）\n",
    "out_dir = '/data/hanzhe/20250424cs/ICE_data/ICE_vMFNM'\n",
    "\n",
    "# 确保输出目录存在\n",
    "os.makedirs(out_dir, exist_ok=True)\n",
    "\n",
    "# 加载 .npz 文件\n",
    "data = np.load(npz_path, allow_pickle=False)\n",
    "\n",
    "# 读取 X 和 y\n",
    "X = data['X']\n",
    "y = data['y']\n",
    "\n",
    "# 保存为 .npy\n",
    "np.save(os.path.join(out_dir, 'X_ICE_vMFNM.npy'), X)\n",
    "np.save(os.path.join(out_dir, 'y_ICE_vMFNM.npy'), y)\n",
    "\n",
    "print(f\"Saved X.npy with shape {X.shape} and dtype {X.dtype}\")\n",
    "print(f\"Saved y.npy with shape {y.shape} and dtype {y.dtype}\")\n"
   ]
  },
  {
   "cell_type": "code",
   "execution_count": 5,
   "metadata": {},
   "outputs": [
    {
     "name": "stdout",
     "output_type": "stream",
     "text": [
      "Total samples: 2000\n",
      "  > 0: 2000\n",
      "  = 0: 0\n",
      "  < 0: 0\n",
      "\n",
      "After binarization (>0→1, ≤0→0):\n",
      "  zeros (0): 0\n",
      "  ones  (1): 2000\n",
      "\n",
      "Saved binarized labels to: /data/hanzhe/20250424cs/ICE_data/ICE_GM/y_ICE_GM_binary.npy\n"
     ]
    }
   ],
   "source": [
    "#!/usr/bin/env python\n",
    "# coding: utf-8\n",
    "\"\"\"\n",
    "读取 y_ICE_GM.npy 并生成二值标签，统计 0 的数量\n",
    "----------------------------------------\n",
    "依赖:\n",
    "  pip install numpy\n",
    "\"\"\"\n",
    "\n",
    "import os\n",
    "import numpy as np\n",
    "\n",
    "# ───────── 1. 读取原始 y ─────────\n",
    "y_path = '/data/hanzhe/20250424cs/ICE_data/ICE_GM/y_ICE_GM.npy'\n",
    "y = np.load(y_path)   # (n_samples,)\n",
    "\n",
    "# ───────── 2. 统计原始分布 ─────────\n",
    "total = y.size\n",
    "num_pos = np.sum(y > 0)\n",
    "num_neg = np.sum(y < 0)\n",
    "num_zero = np.sum(y == 0)\n",
    "\n",
    "print(f\"Total samples: {total}\")\n",
    "print(f\"  > 0: {num_pos}\")\n",
    "print(f\"  = 0: {num_zero}\")\n",
    "print(f\"  < 0: {num_neg}\")\n",
    "\n",
    "# ───────── 3. 生成二值标签 ─────────\n",
    "#    new_y = 1 if y > 0, else 0\n",
    "binary_y = (y > 0).astype(int)\n",
    "\n",
    "# ───────── 4. 统计二值标签中的 0 数量 ─────────\n",
    "num_binary_zero = np.sum(binary_y == 0)\n",
    "num_binary_one  = np.sum(binary_y == 1)\n",
    "\n",
    "print(f\"\\nAfter binarization (>0→1, ≤0→0):\")\n",
    "print(f\"  zeros (0): {num_binary_zero}\")\n",
    "print(f\"  ones  (1): {num_binary_one}\")\n",
    "\n",
    "# （可选）保存二值标签\n",
    "out_dir = os.path.dirname(y_path)\n",
    "out_path = os.path.join(out_dir, 'y_ICE_GM_binary.npy')\n",
    "np.save(out_path, binary_y)\n",
    "print(f\"\\nSaved binarized labels to: {out_path}\")\n"
   ]
  },
  {
   "cell_type": "code",
   "execution_count": 7,
   "metadata": {},
   "outputs": [
    {
     "name": "stdout",
     "output_type": "stream",
     "text": [
      "Total samples: 2000\n",
      "  > 0: 845\n",
      "  = 0: 0\n",
      "  < 0: 1155\n",
      "\n",
      "After binarization (>0→1, ≤0→0):\n",
      "  zeros (0): 1155\n",
      "  ones  (1): 845\n",
      "\n",
      "Saved binarized labels to: /data/hanzhe/20250424cs/ICE_data/ICE_vMFNM/y_ICE_GM_binary.npy\n"
     ]
    }
   ],
   "source": [
    "#!/usr/bin/env python\n",
    "# coding: utf-8\n",
    "\"\"\"\n",
    "读取 y_ICE_GM.npy 并生成二值标签，统计 0 的数量\n",
    "----------------------------------------\n",
    "依赖:\n",
    "  pip install numpy\n",
    "\"\"\"\n",
    "\n",
    "import os\n",
    "import numpy as np\n",
    "\n",
    "# ───────── 1. 读取原始 y ─────────\n",
    "y_path = '/data/hanzhe/20250424cs/ICE_data/ICE_vMFNM/y_ICE_vMFNM.npy'\n",
    "y = np.load(y_path)   # (n_samples,)\n",
    "\n",
    "# ───────── 2. 统计原始分布 ─────────\n",
    "total = y.size\n",
    "num_pos = np.sum(y > 0)\n",
    "num_neg = np.sum(y < 0)\n",
    "num_zero = np.sum(y == 0)\n",
    "\n",
    "print(f\"Total samples: {total}\")\n",
    "print(f\"  > 0: {num_pos}\")\n",
    "print(f\"  = 0: {num_zero}\")\n",
    "print(f\"  < 0: {num_neg}\")\n",
    "\n",
    "# ───────── 3. 生成二值标签 ─────────\n",
    "#    new_y = 1 if y > 0, else 0\n",
    "binary_y = (y > 0).astype(int)\n",
    "\n",
    "# ───────── 4. 统计二值标签中的 0 数量 ─────────\n",
    "num_binary_zero = np.sum(binary_y == 0)\n",
    "num_binary_one  = np.sum(binary_y == 1)\n",
    "\n",
    "print(f\"\\nAfter binarization (>0→1, ≤0→0):\")\n",
    "print(f\"  zeros (0): {num_binary_zero}\")\n",
    "print(f\"  ones  (1): {num_binary_one}\")\n",
    "\n",
    "# （可选）保存二值标签\n",
    "out_dir = os.path.dirname(y_path)\n",
    "out_path = os.path.join(out_dir, 'y_ICE_GM_binary.npy')\n",
    "np.save(out_path, binary_y)\n",
    "print(f\"\\nSaved binarized labels to: {out_path}\")\n"
   ]
  }
 ],
 "metadata": {
  "language_info": {
   "name": "python"
  }
 },
 "nbformat": 4,
 "nbformat_minor": 2
}
