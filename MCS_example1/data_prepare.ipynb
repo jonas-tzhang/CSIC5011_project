{
 "cells": [
  {
   "cell_type": "code",
   "execution_count": 1,
   "metadata": {},
   "outputs": [
    {
     "name": "stdout",
     "output_type": "stream",
     "text": [
      "✅ 已保存： /data/hanzhe/20250424cs/X_trimmed.npy /data/hanzhe/20250424cs/y_trimmed.npy\n",
      "   对应形状： (5478, 100) (5478,)\n"
     ]
    }
   ],
   "source": [
    "\n",
    "import numpy as np\n",
    "import matplotlib.pyplot as plt\n",
    "import seaborn as sns\n",
    "\n",
    "# 1️⃣ 可选：为了结果可复现\n",
    "np.random.seed(42)\n",
    "\n",
    "# 读取原始数据\n",
    "data = np.load('/data/hanzhe/20250424cs/example_1_data_MCS.npz')\n",
    "X = data['X']\n",
    "y = data['y']\n",
    "\n",
    "# 2️⃣ 根据 y 标签挑选正/负样本\n",
    "target = (y <= 0)                 # 正样本条件\n",
    "X_positive = X[target]\n",
    "y_positive = y[target]\n",
    "\n",
    "X_negative_all = X[~target]\n",
    "y_negative_all = y[~target]\n",
    "\n",
    "# 3️⃣ 随机抽取 5 000 个负样本\n",
    "idx_negative = np.random.choice(X_negative_all.shape[0], 5000, replace=False)\n",
    "X_negative = X_negative_all[idx_negative]\n",
    "y_negative = y_negative_all[idx_negative]\n",
    "\n",
    "# 4️⃣ 合并得到最终子集\n",
    "X_trimmed = np.concatenate([X_positive, X_negative], axis=0)\n",
    "y_trimmed = np.concatenate([y_positive, y_negative], axis=0)\n",
    "\n",
    "# 5️⃣ 保存为 .npy 文件\n",
    "np.save('/data/hanzhe/20250424cs/X_trimmed.npy', X_trimmed)\n",
    "np.save('/data/hanzhe/20250424cs/y_trimmed.npy', y_trimmed)\n",
    "\n",
    "print('✅ 已保存：',\n",
    "      '/data/hanzhe/20250424cs/X_trimmed.npy',\n",
    "      '/data/hanzhe/20250424cs/y_trimmed.npy')\n",
    "print('   对应形状：', X_trimmed.shape, y_trimmed.shape)\n"
   ]
  }
 ],
 "metadata": {
  "language_info": {
   "name": "python"
  }
 },
 "nbformat": 4,
 "nbformat_minor": 2
}
